{
 "cells": [
  {
   "cell_type": "raw",
   "id": "a00b1bef",
   "metadata": {},
   "source": [
    "The Sparks Foundation\n",
    "Data Science & Business Analytics\n",
    "Exploratory Data Analysis - Sports\n",
    "KINJAL SHAH"
   ]
  },
  {
   "cell_type": "code",
   "execution_count": 1,
   "id": "735850bd",
   "metadata": {},
   "outputs": [],
   "source": [
    "#import all tasks\n",
    "import pandas as pd \n",
    "import  numpy as np\n",
    "import matplotlib.pyplot as plt\n",
    "import seaborn as sns\n",
    "import warnings\n",
    "warnings.filterwarnings(\"ignore\")"
   ]
  },
  {
   "cell_type": "code",
   "execution_count": 2,
   "id": "6f506538",
   "metadata": {},
   "outputs": [],
   "source": [
    "df1=pd.read_csv(\"inings.csv\")\n",
    "df2=pd.read_csv(\"deliveries.csv\")"
   ]
  },
  {
   "cell_type": "code",
   "execution_count": 3,
   "id": "89a4d542",
   "metadata": {},
   "outputs": [
    {
     "data": {
      "text/html": [
       "<div>\n",
       "<style scoped>\n",
       "    .dataframe tbody tr th:only-of-type {\n",
       "        vertical-align: middle;\n",
       "    }\n",
       "\n",
       "    .dataframe tbody tr th {\n",
       "        vertical-align: top;\n",
       "    }\n",
       "\n",
       "    .dataframe thead th {\n",
       "        text-align: right;\n",
       "    }\n",
       "</style>\n",
       "<table border=\"1\" class=\"dataframe\">\n",
       "  <thead>\n",
       "    <tr style=\"text-align: right;\">\n",
       "      <th></th>\n",
       "      <th>id</th>\n",
       "      <th>season</th>\n",
       "      <th>city</th>\n",
       "      <th>date</th>\n",
       "      <th>team1</th>\n",
       "      <th>team2</th>\n",
       "      <th>toss_winner</th>\n",
       "      <th>toss_decision</th>\n",
       "      <th>result</th>\n",
       "      <th>dl_applied</th>\n",
       "      <th>winner</th>\n",
       "      <th>win_by_runs</th>\n",
       "      <th>win_by_wickets</th>\n",
       "      <th>player_of_match</th>\n",
       "      <th>venue</th>\n",
       "      <th>umpire1</th>\n",
       "      <th>umpire2</th>\n",
       "      <th>umpire3</th>\n",
       "    </tr>\n",
       "  </thead>\n",
       "  <tbody>\n",
       "    <tr>\n",
       "      <th>0</th>\n",
       "      <td>1</td>\n",
       "      <td>2017</td>\n",
       "      <td>Hyderabad</td>\n",
       "      <td>2017-04-05</td>\n",
       "      <td>Sunrisers Hyderabad</td>\n",
       "      <td>Royal Challengers Bangalore</td>\n",
       "      <td>Royal Challengers Bangalore</td>\n",
       "      <td>field</td>\n",
       "      <td>normal</td>\n",
       "      <td>0</td>\n",
       "      <td>Sunrisers Hyderabad</td>\n",
       "      <td>35</td>\n",
       "      <td>0</td>\n",
       "      <td>Yuvraj Singh</td>\n",
       "      <td>Rajiv Gandhi International Stadium, Uppal</td>\n",
       "      <td>AY Dandekar</td>\n",
       "      <td>NJ Llong</td>\n",
       "      <td>NaN</td>\n",
       "    </tr>\n",
       "    <tr>\n",
       "      <th>1</th>\n",
       "      <td>2</td>\n",
       "      <td>2017</td>\n",
       "      <td>Pune</td>\n",
       "      <td>2017-04-06</td>\n",
       "      <td>Mumbai Indians</td>\n",
       "      <td>Rising Pune Supergiant</td>\n",
       "      <td>Rising Pune Supergiant</td>\n",
       "      <td>field</td>\n",
       "      <td>normal</td>\n",
       "      <td>0</td>\n",
       "      <td>Rising Pune Supergiant</td>\n",
       "      <td>0</td>\n",
       "      <td>7</td>\n",
       "      <td>SPD Smith</td>\n",
       "      <td>Maharashtra Cricket Association Stadium</td>\n",
       "      <td>A Nand Kishore</td>\n",
       "      <td>S Ravi</td>\n",
       "      <td>NaN</td>\n",
       "    </tr>\n",
       "    <tr>\n",
       "      <th>2</th>\n",
       "      <td>3</td>\n",
       "      <td>2017</td>\n",
       "      <td>Rajkot</td>\n",
       "      <td>2017-04-07</td>\n",
       "      <td>Gujarat Lions</td>\n",
       "      <td>Kolkata Knight Riders</td>\n",
       "      <td>Kolkata Knight Riders</td>\n",
       "      <td>field</td>\n",
       "      <td>normal</td>\n",
       "      <td>0</td>\n",
       "      <td>Kolkata Knight Riders</td>\n",
       "      <td>0</td>\n",
       "      <td>10</td>\n",
       "      <td>CA Lynn</td>\n",
       "      <td>Saurashtra Cricket Association Stadium</td>\n",
       "      <td>Nitin Menon</td>\n",
       "      <td>CK Nandan</td>\n",
       "      <td>NaN</td>\n",
       "    </tr>\n",
       "    <tr>\n",
       "      <th>3</th>\n",
       "      <td>4</td>\n",
       "      <td>2017</td>\n",
       "      <td>Indore</td>\n",
       "      <td>2017-04-08</td>\n",
       "      <td>Rising Pune Supergiant</td>\n",
       "      <td>Kings XI Punjab</td>\n",
       "      <td>Kings XI Punjab</td>\n",
       "      <td>field</td>\n",
       "      <td>normal</td>\n",
       "      <td>0</td>\n",
       "      <td>Kings XI Punjab</td>\n",
       "      <td>0</td>\n",
       "      <td>6</td>\n",
       "      <td>GJ Maxwell</td>\n",
       "      <td>Holkar Cricket Stadium</td>\n",
       "      <td>AK Chaudhary</td>\n",
       "      <td>C Shamshuddin</td>\n",
       "      <td>NaN</td>\n",
       "    </tr>\n",
       "    <tr>\n",
       "      <th>4</th>\n",
       "      <td>5</td>\n",
       "      <td>2017</td>\n",
       "      <td>Bangalore</td>\n",
       "      <td>2017-04-08</td>\n",
       "      <td>Royal Challengers Bangalore</td>\n",
       "      <td>Delhi Daredevils</td>\n",
       "      <td>Royal Challengers Bangalore</td>\n",
       "      <td>bat</td>\n",
       "      <td>normal</td>\n",
       "      <td>0</td>\n",
       "      <td>Royal Challengers Bangalore</td>\n",
       "      <td>15</td>\n",
       "      <td>0</td>\n",
       "      <td>KM Jadhav</td>\n",
       "      <td>M Chinnaswamy Stadium</td>\n",
       "      <td>NaN</td>\n",
       "      <td>NaN</td>\n",
       "      <td>NaN</td>\n",
       "    </tr>\n",
       "  </tbody>\n",
       "</table>\n",
       "</div>"
      ],
      "text/plain": [
       "   id  season       city        date                        team1  \\\n",
       "0   1    2017  Hyderabad  2017-04-05          Sunrisers Hyderabad   \n",
       "1   2    2017       Pune  2017-04-06               Mumbai Indians   \n",
       "2   3    2017     Rajkot  2017-04-07                Gujarat Lions   \n",
       "3   4    2017     Indore  2017-04-08       Rising Pune Supergiant   \n",
       "4   5    2017  Bangalore  2017-04-08  Royal Challengers Bangalore   \n",
       "\n",
       "                         team2                  toss_winner toss_decision  \\\n",
       "0  Royal Challengers Bangalore  Royal Challengers Bangalore         field   \n",
       "1       Rising Pune Supergiant       Rising Pune Supergiant         field   \n",
       "2        Kolkata Knight Riders        Kolkata Knight Riders         field   \n",
       "3              Kings XI Punjab              Kings XI Punjab         field   \n",
       "4             Delhi Daredevils  Royal Challengers Bangalore           bat   \n",
       "\n",
       "   result  dl_applied                       winner  win_by_runs  \\\n",
       "0  normal           0          Sunrisers Hyderabad           35   \n",
       "1  normal           0       Rising Pune Supergiant            0   \n",
       "2  normal           0        Kolkata Knight Riders            0   \n",
       "3  normal           0              Kings XI Punjab            0   \n",
       "4  normal           0  Royal Challengers Bangalore           15   \n",
       "\n",
       "   win_by_wickets player_of_match                                      venue  \\\n",
       "0               0    Yuvraj Singh  Rajiv Gandhi International Stadium, Uppal   \n",
       "1               7       SPD Smith    Maharashtra Cricket Association Stadium   \n",
       "2              10         CA Lynn     Saurashtra Cricket Association Stadium   \n",
       "3               6      GJ Maxwell                     Holkar Cricket Stadium   \n",
       "4               0       KM Jadhav                      M Chinnaswamy Stadium   \n",
       "\n",
       "          umpire1        umpire2 umpire3  \n",
       "0     AY Dandekar       NJ Llong     NaN  \n",
       "1  A Nand Kishore         S Ravi     NaN  \n",
       "2     Nitin Menon      CK Nandan     NaN  \n",
       "3    AK Chaudhary  C Shamshuddin     NaN  \n",
       "4             NaN            NaN     NaN  "
      ]
     },
     "execution_count": 3,
     "metadata": {},
     "output_type": "execute_result"
    }
   ],
   "source": [
    "df1.head()"
   ]
  },
  {
   "cell_type": "code",
   "execution_count": 4,
   "id": "9bba1549",
   "metadata": {},
   "outputs": [
    {
     "name": "stdout",
     "output_type": "stream",
     "text": [
      "<class 'pandas.core.frame.DataFrame'>\n",
      "RangeIndex: 756 entries, 0 to 755\n",
      "Data columns (total 18 columns):\n",
      " #   Column           Non-Null Count  Dtype \n",
      "---  ------           --------------  ----- \n",
      " 0   id               756 non-null    int64 \n",
      " 1   season           756 non-null    int64 \n",
      " 2   city             749 non-null    object\n",
      " 3   date             756 non-null    object\n",
      " 4   team1            756 non-null    object\n",
      " 5   team2            756 non-null    object\n",
      " 6   toss_winner      756 non-null    object\n",
      " 7   toss_decision    756 non-null    object\n",
      " 8   result           756 non-null    object\n",
      " 9   dl_applied       756 non-null    int64 \n",
      " 10  winner           752 non-null    object\n",
      " 11  win_by_runs      756 non-null    int64 \n",
      " 12  win_by_wickets   756 non-null    int64 \n",
      " 13  player_of_match  752 non-null    object\n",
      " 14  venue            756 non-null    object\n",
      " 15  umpire1          754 non-null    object\n",
      " 16  umpire2          754 non-null    object\n",
      " 17  umpire3          119 non-null    object\n",
      "dtypes: int64(5), object(13)\n",
      "memory usage: 106.4+ KB\n"
     ]
    }
   ],
   "source": [
    "df1.info()"
   ]
  },
  {
   "cell_type": "markdown",
   "id": "c479f728",
   "metadata": {},
   "source": [
    "there are 18 columns which includes three types of data (int64,object,float64) total number of entries are 636 indexing starts \n",
    "from 0 to 635;"
   ]
  },
  {
   "cell_type": "code",
   "execution_count": 5,
   "id": "9f46e6a0",
   "metadata": {},
   "outputs": [
    {
     "data": {
      "text/plain": [
       "id                   0\n",
       "season               0\n",
       "city                 7\n",
       "date                 0\n",
       "team1                0\n",
       "team2                0\n",
       "toss_winner          0\n",
       "toss_decision        0\n",
       "result               0\n",
       "dl_applied           0\n",
       "winner               4\n",
       "win_by_runs          0\n",
       "win_by_wickets       0\n",
       "player_of_match      4\n",
       "venue                0\n",
       "umpire1              2\n",
       "umpire2              2\n",
       "umpire3            637\n",
       "dtype: int64"
      ]
     },
     "execution_count": 5,
     "metadata": {},
     "output_type": "execute_result"
    }
   ],
   "source": [
    "## find null values \n",
    "df1.isnull().sum()"
   ]
  },
  {
   "cell_type": "code",
   "execution_count": 6,
   "id": "a9c6b3a6",
   "metadata": {},
   "outputs": [],
   "source": [
    "#drop umpire3 column as it contains more than 75% of null values\n",
    "df1.drop(\"umpire3\",axis=1,inplace=True)"
   ]
  },
  {
   "cell_type": "code",
   "execution_count": 7,
   "id": "73e27d7f",
   "metadata": {},
   "outputs": [],
   "source": [
    "#drop null values of city , winner ,player_of_match,umpire1,umpire2 column\n",
    "df1.dropna(inplace=True)"
   ]
  },
  {
   "cell_type": "code",
   "execution_count": 8,
   "id": "29c6b107",
   "metadata": {},
   "outputs": [
    {
     "data": {
      "text/plain": [
       "<AxesSubplot:>"
      ]
     },
     "execution_count": 8,
     "metadata": {},
     "output_type": "execute_result"
    },
    {
     "data": {
      "image/png": "[encoded data removed]",
      "text/plain": [
       "<Figure size 432x288 with 1 Axes>"
      ]
     },
     "metadata": {
      "needs_background": "light"
     },
     "output_type": "display_data"
    }
   ],
   "source": [
    "#The most matches played are in Mumbai and the least matches played are in Bloemfontein\n",
    "df1[\"city\"].value_counts().plot(kind=\"bar\")"
   ]
  },
  {
   "cell_type": "code",
   "execution_count": 9,
   "id": "4f12a7db",
   "metadata": {},
   "outputs": [
    {
     "data": {
      "text/plain": [
       "<AxesSubplot:>"
      ]
     },
     "execution_count": 9,
     "metadata": {},
     "output_type": "execute_result"
    },
    {
     "data": {
      "image/png": "[encoded data removed]",
      "text/plain": [
       "<Figure size 648x648 with 1 Axes>"
      ]
     },
     "metadata": {
      "needs_background": "light"
     },
     "output_type": "display_data"
    }
   ],
   "source": [
    "#which city hosted most number of matches?\n",
    "#draw bar plot and write down your insights\n",
    "plt.figure(figsize=(9,9))\n",
    "df1[\"city\"].value_counts().plot(kind=\"bar\")"
   ]
  },
  {
   "cell_type": "code",
   "execution_count": 10,
   "id": "06d85a0b",
   "metadata": {},
   "outputs": [
    {
     "data": {
      "text/plain": [
       "array(['Wankhede Stadium', 'Dr DY Patil Sports Academy',\n",
       "       'Brabourne Stadium'], dtype=object)"
      ]
     },
     "execution_count": 10,
     "metadata": {},
     "output_type": "execute_result"
    }
   ],
   "source": [
    "#find all venue of mumbai city\n",
    "df1[df1[\"city\"]==\"Mumbai\"][\"venue\"].unique()"
   ]
  },
  {
   "cell_type": "code",
   "execution_count": 11,
   "id": "3ab36215",
   "metadata": {},
   "outputs": [
    {
     "data": {
      "text/plain": [
       "<AxesSubplot:>"
      ]
     },
     "execution_count": 11,
     "metadata": {},
     "output_type": "execute_result"
    },
    {
     "data": {
      "image/png": "[encoded data removed]",
      "text/plain": [
       "<Figure size 432x288 with 1 Axes>"
      ]
     },
     "metadata": {
      "needs_background": "light"
     },
     "output_type": "display_data"
    }
   ],
   "source": [
    "#The most matches played in Mumbai were in Wankhede Stadium which were 70 matches in total.\n",
    "df1[df1[\"city\"]==\"Mumbai\"][\"venue\"].value_counts().plot(kind=\"bar\")"
   ]
  },
  {
   "cell_type": "code",
   "execution_count": 12,
   "id": "8a2397c3",
   "metadata": {},
   "outputs": [
    {
     "data": {
      "text/plain": [
       "<AxesSubplot:>"
      ]
     },
     "execution_count": 12,
     "metadata": {},
     "output_type": "execute_result"
    },
    {
     "data": {
      "image/png": "[encoded data removed]",
      "text/plain": [
       "<Figure size 432x288 with 1 Axes>"
      ]
     },
     "metadata": {
      "needs_background": "light"
     },
     "output_type": "display_data"
    }
   ],
   "source": [
    "#now compare in which venue of mumbai most number of matches played \n",
    "df1[df1[\"city\"]==\"Mumbai\"][\"venue\"].value_counts().plot(kind=\"bar\")"
   ]
  },
  {
   "cell_type": "markdown",
   "id": "07a120a1",
   "metadata": {},
   "source": [
    "The most number of matches played in mumbai is wankhede stadium the number of count of matches is 70 and least number of matches played in  mumbai-braboume stadium number of matches played in braboume stadium is 10.and mumbai-dr dy patil sports academy number of matches played is 15. "
   ]
  },
  {
   "cell_type": "code",
   "execution_count": 13,
   "id": "e50fb868",
   "metadata": {},
   "outputs": [
    {
     "data": {
      "text/plain": [
       "field    66\n",
       "bat      35\n",
       "Name: toss_decision, dtype: int64"
      ]
     },
     "execution_count": 13,
     "metadata": {},
     "output_type": "execute_result"
    }
   ],
   "source": [
    "#what is the preferred choice after winning a toss in mumbai\n",
    "df1[df1[\"city\"]==\"Mumbai\"][\"toss_decision\"].value_counts()"
   ]
  },
  {
   "cell_type": "code",
   "execution_count": 14,
   "id": "599e4f9e",
   "metadata": {},
   "outputs": [
    {
     "data": {
      "text/plain": [
       "<AxesSubplot:>"
      ]
     },
     "execution_count": 14,
     "metadata": {},
     "output_type": "execute_result"
    },
    {
     "data": {
      "image/png": "[encoded data removed]",
      "text/plain": [
       "<Figure size 432x288 with 1 Axes>"
      ]
     },
     "metadata": {
      "needs_background": "light"
     },
     "output_type": "display_data"
    }
   ],
   "source": [
    "#graphical representation of above question\n",
    "df1[df1[\"city\"]==\"Mumbai\"][\"toss_decision\"].value_counts().plot(kind=\"bar\")"
   ]
  },
  {
   "cell_type": "code",
   "execution_count": 15,
   "id": "bace9bef",
   "metadata": {},
   "outputs": [
    {
     "data": {
      "text/plain": [
       "Mumbai Indians                 96\n",
       "Kolkata Knight Riders          91\n",
       "Chennai Super Kings            89\n",
       "Kings XI Punjab                80\n",
       "Delhi Daredevils               79\n",
       "Royal Challengers Bangalore    78\n",
       "Rajasthan Royals               77\n",
       "Sunrisers Hyderabad            45\n",
       "Deccan Chargers                43\n",
       "Pune Warriors                  20\n",
       "Gujarat Lions                  15\n",
       "Delhi Capitals                  9\n",
       "Kochi Tuskers Kerala            8\n",
       "Rising Pune Supergiants         7\n",
       "Rising Pune Supergiant          6\n",
       "Name: toss_winner, dtype: int64"
      ]
     },
     "execution_count": 15,
     "metadata": {},
     "output_type": "execute_result"
    }
   ],
   "source": [
    "#which team won most number of toss\n",
    "df1[\"toss_winner\"].value_counts()"
   ]
  },
  {
   "cell_type": "code",
   "execution_count": 16,
   "id": "99d70dcf",
   "metadata": {},
   "outputs": [
    {
     "data": {
      "text/plain": [
       "<AxesSubplot:>"
      ]
     },
     "execution_count": 16,
     "metadata": {},
     "output_type": "execute_result"
    },
    {
     "data": {
      "image/png": "[encoded data removed]",
      "text/plain": [
       "<Figure size 432x288 with 1 Axes>"
      ]
     },
     "metadata": {
      "needs_background": "light"
     },
     "output_type": "display_data"
    }
   ],
   "source": [
    "#show graphical representation of above question\n",
    "df1[\"toss_winner\"].value_counts().plot(kind=\"bar\")"
   ]
  },
  {
   "cell_type": "code",
   "execution_count": 17,
   "id": "c634ac8b",
   "metadata": {},
   "outputs": [
    {
     "data": {
      "text/plain": [
       "field    53\n",
       "bat      43\n",
       "Name: toss_decision, dtype: int64"
      ]
     },
     "execution_count": 17,
     "metadata": {},
     "output_type": "execute_result"
    }
   ],
   "source": [
    "#find what mumbai indians preferred after winning a toss?\n",
    "df1[df1[\"toss_winner\"]==\"Mumbai Indians\"][\"toss_decision\"].value_counts()"
   ]
  },
  {
   "cell_type": "code",
   "execution_count": 18,
   "id": "a0eaefaa",
   "metadata": {},
   "outputs": [
    {
     "data": {
      "text/plain": [
       "Mumbai Indians         17\n",
       "Chennai Super Kings    10\n",
       "Name: winner, dtype: int64"
      ]
     },
     "execution_count": 18,
     "metadata": {},
     "output_type": "execute_result"
    }
   ],
   "source": [
    "#head to head winning count of Mumbai Indians vs Chennai Super Kings\n",
    "df1[(df1[\"team1\"]==\"Mumbai Indians\")& (df1[\"team2\"]==\"Chennai Super Kings\")|(df1[\"team1\"]==\"Chennai Super Kings\")& (df1[\"team2\"]==\"Mumbai Indians\")][\"winner\"].value_counts()"
   ]
  },
  {
   "cell_type": "code",
   "execution_count": 19,
   "id": "55bff72e",
   "metadata": {},
   "outputs": [
    {
     "data": {
      "text/plain": [
       "Mumbai Indians                 53\n",
       "Chennai Super Kings            11\n",
       "Rajasthan Royals                7\n",
       "Kings XI Punjab                 5\n",
       "Royal Challengers Bangalore     5\n",
       "Deccan Chargers                 3\n",
       "Kolkata Knight Riders           3\n",
       "Pune Warriors                   3\n",
       "Delhi Daredevils                3\n",
       "Rising Pune Supergiant          2\n",
       "Sunrisers Hyderabad             2\n",
       "Kochi Tuskers Kerala            1\n",
       "Rising Pune Supergiants         1\n",
       "Gujarat Lions                   1\n",
       "Delhi Capitals                  1\n",
       "Name: winner, dtype: int64"
      ]
     },
     "execution_count": 19,
     "metadata": {},
     "output_type": "execute_result"
    }
   ],
   "source": [
    "#Which team won most of the matches in mumbai?\n",
    "df1[df1[\"city\"]==\"Mumbai\"][\"winner\"].value_counts()"
   ]
  },
  {
   "cell_type": "code",
   "execution_count": 20,
   "id": "25534afc",
   "metadata": {},
   "outputs": [
    {
     "data": {
      "text/plain": [
       "Chennai Super Kings            57\n",
       "Mumbai Indians                 56\n",
       "Kolkata Knight Riders          53\n",
       "Rajasthan Royals               42\n",
       "Royal Challengers Bangalore    39\n",
       "Delhi Daredevils               35\n",
       "Kings XI Punjab                34\n",
       "Sunrisers Hyderabad            22\n",
       "Deccan Chargers                19\n",
       "Gujarat Lions                  10\n",
       "Delhi Capitals                  6\n",
       "Rising Pune Supergiant          5\n",
       "Kochi Tuskers Kerala            4\n",
       "Pune Warriors                   3\n",
       "Rising Pune Supergiants         3\n",
       "Name: winner, dtype: int64"
      ]
     },
     "execution_count": 20,
     "metadata": {},
     "output_type": "execute_result"
    }
   ],
   "source": [
    "#how many times each team won the toss and won the match\n",
    "df1[(df1[\"toss_winner\"])==(df1[\"winner\"])][\"winner\"].value_counts()"
   ]
  },
  {
   "cell_type": "code",
   "execution_count": 21,
   "id": "2ba0ea8a",
   "metadata": {},
   "outputs": [
    {
     "data": {
      "text/plain": [
       "Mumbai Indians                 30\n",
       "Chennai Super Kings             8\n",
       "Rajasthan Royals                4\n",
       "Deccan Chargers                 3\n",
       "Delhi Daredevils                3\n",
       "Royal Challengers Bangalore     2\n",
       "Kochi Tuskers Kerala            1\n",
       "Kolkata Knight Riders           1\n",
       "Gujarat Lions                   1\n",
       "Name: winner, dtype: int64"
      ]
     },
     "execution_count": 21,
     "metadata": {},
     "output_type": "execute_result"
    }
   ],
   "source": [
    "#how many times each team won the toss and won the match in mumbai\n",
    "df1[(df1[\"toss_winner\"]==df1[\"winner\"])& (df1[\"city\"]==\"Mumbai\")][\"winner\"].value_counts()"
   ]
  },
  {
   "cell_type": "code",
   "execution_count": 22,
   "id": "cc7d3aeb",
   "metadata": {},
   "outputs": [
    {
     "data": {
      "text/plain": [
       "<AxesSubplot:>"
      ]
     },
     "execution_count": 22,
     "metadata": {},
     "output_type": "execute_result"
    },
    {
     "data": {
      "image/png": "[encoded data removed]",
      "text/plain": [
       "<Figure size 792x720 with 1 Axes>"
      ]
     },
     "metadata": {
      "needs_background": "light"
     },
     "output_type": "display_data"
    }
   ],
   "source": [
    "#which venue hosted most number of matches\n",
    "plt.figure(figsize=(11,10))\n",
    "df1[\"venue\"].value_counts().plot(kind=\"barh\")\n"
   ]
  },
  {
   "cell_type": "code",
   "execution_count": 23,
   "id": "d577f19b",
   "metadata": {},
   "outputs": [
    {
     "data": {
      "text/plain": [
       "8"
      ]
     },
     "execution_count": 23,
     "metadata": {},
     "output_type": "execute_result"
    }
   ],
   "source": [
    "df1[(df1[\"team2\"]==\"Chennai Super Kings\")&(df1[\"venue\"]==\"M Chinnaswamy Stadium\")| (df1[\"team1\"]==\"Chennai Super Kings\")&(df1[\"venue\"]==\"M Chinnaswamy Stadium\")][\"venue\"].count()"
   ]
  },
  {
   "cell_type": "code",
   "execution_count": 24,
   "id": "466d786b",
   "metadata": {},
   "outputs": [
    {
     "data": {
      "text/plain": [
       "Royal Challengers Bangalore    33\n",
       "Mumbai Indians                  8\n",
       "Kolkata Knight Riders           7\n",
       "Kings XI Punjab                 5\n",
       "Chennai Super Kings             5\n",
       "Rajasthan Royals                4\n",
       "Delhi Daredevils                3\n",
       "Sunrisers Hyderabad             2\n",
       "Rising Pune Supergiant          1\n",
       "Gujarat Lions                   1\n",
       "Deccan Chargers                 1\n",
       "Name: winner, dtype: int64"
      ]
     },
     "execution_count": 24,
     "metadata": {},
     "output_type": "execute_result"
    }
   ],
   "source": [
    "#who won most matches at M Chinnaswamy stadium?\n",
    "df1[df1[\"venue\"]==\"M Chinnaswamy Stadium\"][\"winner\"].value_counts()"
   ]
  },
  {
   "cell_type": "markdown",
   "id": "3aeeaae9",
   "metadata": {},
   "source": [
    "# year wise analysis"
   ]
  },
  {
   "cell_type": "code",
   "execution_count": 25,
   "id": "b149612e",
   "metadata": {},
   "outputs": [
    {
     "data": {
      "text/plain": [
       "<AxesSubplot:ylabel='season'>"
      ]
     },
     "execution_count": 25,
     "metadata": {},
     "output_type": "execute_result"
    },
    {
     "data": {
      "image/png": "[encoded data removed]",
      "text/plain": [
       "<Figure size 432x288 with 1 Axes>"
      ]
     },
     "metadata": {},
     "output_type": "display_data"
    }
   ],
   "source": [
    "df1[\"season\"].value_counts().plot(kind=\"pie\",autopct='%0.1f%%')"
   ]
  },
  {
   "cell_type": "code",
   "execution_count": 26,
   "id": "d9d992ad",
   "metadata": {},
   "outputs": [
    {
     "data": {
      "text/plain": [
       "<AxesSubplot:ylabel='season'>"
      ]
     },
     "execution_count": 26,
     "metadata": {},
     "output_type": "execute_result"
    },
    {
     "data": {
      "image/png": "[encoded data removed]",
      "text/plain": [
       "<Figure size 432x288 with 1 Axes>"
      ]
     },
     "metadata": {},
     "output_type": "display_data"
    }
   ],
   "source": [
    "#matches played in each year graphical Representation\n",
    "df1[\"season\"].value_counts().plot(kind=\"pie\")"
   ]
  },
  {
   "cell_type": "code",
   "execution_count": 27,
   "id": "74bcd95d",
   "metadata": {},
   "outputs": [
    {
     "data": {
      "text/html": [
       "<div>\n",
       "<style scoped>\n",
       "    .dataframe tbody tr th:only-of-type {\n",
       "        vertical-align: middle;\n",
       "    }\n",
       "\n",
       "    .dataframe tbody tr th {\n",
       "        vertical-align: top;\n",
       "    }\n",
       "\n",
       "    .dataframe thead th {\n",
       "        text-align: right;\n",
       "    }\n",
       "</style>\n",
       "<table border=\"1\" class=\"dataframe\">\n",
       "  <thead>\n",
       "    <tr style=\"text-align: right;\">\n",
       "      <th></th>\n",
       "      <th>id</th>\n",
       "      <th>season</th>\n",
       "      <th>city</th>\n",
       "      <th>date</th>\n",
       "      <th>team1</th>\n",
       "      <th>team2</th>\n",
       "      <th>toss_winner</th>\n",
       "      <th>toss_decision</th>\n",
       "      <th>result</th>\n",
       "      <th>dl_applied</th>\n",
       "      <th>winner</th>\n",
       "      <th>win_by_runs</th>\n",
       "      <th>win_by_wickets</th>\n",
       "      <th>player_of_match</th>\n",
       "      <th>venue</th>\n",
       "      <th>umpire1</th>\n",
       "      <th>umpire2</th>\n",
       "    </tr>\n",
       "  </thead>\n",
       "  <tbody>\n",
       "    <tr>\n",
       "      <th>381</th>\n",
       "      <td>382</td>\n",
       "      <td>2013</td>\n",
       "      <td>Kolkata</td>\n",
       "      <td>2013-04-03</td>\n",
       "      <td>Delhi Daredevils</td>\n",
       "      <td>Kolkata Knight Riders</td>\n",
       "      <td>Kolkata Knight Riders</td>\n",
       "      <td>field</td>\n",
       "      <td>normal</td>\n",
       "      <td>0</td>\n",
       "      <td>Kolkata Knight Riders</td>\n",
       "      <td>0</td>\n",
       "      <td>6</td>\n",
       "      <td>SP Narine</td>\n",
       "      <td>Eden Gardens</td>\n",
       "      <td>S Ravi</td>\n",
       "      <td>SJA Taufel</td>\n",
       "    </tr>\n",
       "    <tr>\n",
       "      <th>382</th>\n",
       "      <td>383</td>\n",
       "      <td>2013</td>\n",
       "      <td>Bangalore</td>\n",
       "      <td>2013-04-04</td>\n",
       "      <td>Royal Challengers Bangalore</td>\n",
       "      <td>Mumbai Indians</td>\n",
       "      <td>Mumbai Indians</td>\n",
       "      <td>field</td>\n",
       "      <td>normal</td>\n",
       "      <td>0</td>\n",
       "      <td>Royal Challengers Bangalore</td>\n",
       "      <td>2</td>\n",
       "      <td>0</td>\n",
       "      <td>CH Gayle</td>\n",
       "      <td>M Chinnaswamy Stadium</td>\n",
       "      <td>VA Kulkarni</td>\n",
       "      <td>C Shamshuddin</td>\n",
       "    </tr>\n",
       "    <tr>\n",
       "      <th>383</th>\n",
       "      <td>384</td>\n",
       "      <td>2013</td>\n",
       "      <td>Hyderabad</td>\n",
       "      <td>2013-04-05</td>\n",
       "      <td>Sunrisers Hyderabad</td>\n",
       "      <td>Pune Warriors</td>\n",
       "      <td>Pune Warriors</td>\n",
       "      <td>field</td>\n",
       "      <td>normal</td>\n",
       "      <td>0</td>\n",
       "      <td>Sunrisers Hyderabad</td>\n",
       "      <td>22</td>\n",
       "      <td>0</td>\n",
       "      <td>A Mishra</td>\n",
       "      <td>Rajiv Gandhi International Stadium, Uppal</td>\n",
       "      <td>S Ravi</td>\n",
       "      <td>SJA Taufel</td>\n",
       "    </tr>\n",
       "    <tr>\n",
       "      <th>384</th>\n",
       "      <td>385</td>\n",
       "      <td>2013</td>\n",
       "      <td>Delhi</td>\n",
       "      <td>2013-04-06</td>\n",
       "      <td>Rajasthan Royals</td>\n",
       "      <td>Delhi Daredevils</td>\n",
       "      <td>Rajasthan Royals</td>\n",
       "      <td>bat</td>\n",
       "      <td>normal</td>\n",
       "      <td>0</td>\n",
       "      <td>Rajasthan Royals</td>\n",
       "      <td>5</td>\n",
       "      <td>0</td>\n",
       "      <td>R Dravid</td>\n",
       "      <td>Feroz Shah Kotla</td>\n",
       "      <td>S Das</td>\n",
       "      <td>C Shamshuddin</td>\n",
       "    </tr>\n",
       "    <tr>\n",
       "      <th>385</th>\n",
       "      <td>386</td>\n",
       "      <td>2013</td>\n",
       "      <td>Chennai</td>\n",
       "      <td>2013-04-06</td>\n",
       "      <td>Mumbai Indians</td>\n",
       "      <td>Chennai Super Kings</td>\n",
       "      <td>Mumbai Indians</td>\n",
       "      <td>bat</td>\n",
       "      <td>normal</td>\n",
       "      <td>0</td>\n",
       "      <td>Mumbai Indians</td>\n",
       "      <td>9</td>\n",
       "      <td>0</td>\n",
       "      <td>KA Pollard</td>\n",
       "      <td>MA Chidambaram Stadium, Chepauk</td>\n",
       "      <td>M Erasmus</td>\n",
       "      <td>VA Kulkarni</td>\n",
       "    </tr>\n",
       "  </tbody>\n",
       "</table>\n",
       "</div>"
      ],
      "text/plain": [
       "      id  season       city        date                        team1  \\\n",
       "381  382    2013    Kolkata  2013-04-03             Delhi Daredevils   \n",
       "382  383    2013  Bangalore  2013-04-04  Royal Challengers Bangalore   \n",
       "383  384    2013  Hyderabad  2013-04-05          Sunrisers Hyderabad   \n",
       "384  385    2013      Delhi  2013-04-06             Rajasthan Royals   \n",
       "385  386    2013    Chennai  2013-04-06               Mumbai Indians   \n",
       "\n",
       "                     team2            toss_winner toss_decision  result  \\\n",
       "381  Kolkata Knight Riders  Kolkata Knight Riders         field  normal   \n",
       "382         Mumbai Indians         Mumbai Indians         field  normal   \n",
       "383          Pune Warriors          Pune Warriors         field  normal   \n",
       "384       Delhi Daredevils       Rajasthan Royals           bat  normal   \n",
       "385    Chennai Super Kings         Mumbai Indians           bat  normal   \n",
       "\n",
       "     dl_applied                       winner  win_by_runs  win_by_wickets  \\\n",
       "381           0        Kolkata Knight Riders            0               6   \n",
       "382           0  Royal Challengers Bangalore            2               0   \n",
       "383           0          Sunrisers Hyderabad           22               0   \n",
       "384           0             Rajasthan Royals            5               0   \n",
       "385           0               Mumbai Indians            9               0   \n",
       "\n",
       "    player_of_match                                      venue      umpire1  \\\n",
       "381       SP Narine                               Eden Gardens       S Ravi   \n",
       "382        CH Gayle                      M Chinnaswamy Stadium  VA Kulkarni   \n",
       "383        A Mishra  Rajiv Gandhi International Stadium, Uppal       S Ravi   \n",
       "384        R Dravid                           Feroz Shah Kotla        S Das   \n",
       "385      KA Pollard            MA Chidambaram Stadium, Chepauk    M Erasmus   \n",
       "\n",
       "           umpire2  \n",
       "381     SJA Taufel  \n",
       "382  C Shamshuddin  \n",
       "383     SJA Taufel  \n",
       "384  C Shamshuddin  \n",
       "385    VA Kulkarni  "
      ]
     },
     "execution_count": 27,
     "metadata": {},
     "output_type": "execute_result"
    }
   ],
   "source": [
    "#lets analyse ipl season held in 2013\n",
    "#extract all the details of 2013 season\n",
    "#here we will create yearwise groups (hint: use groupby() function)\n",
    "y=df1.groupby(\"season\")\n",
    "t=y.get_group(2013)\n",
    "t.head()"
   ]
  },
  {
   "cell_type": "code",
   "execution_count": 28,
   "id": "b4d5aff1",
   "metadata": {},
   "outputs": [
    {
     "data": {
      "text/plain": [
       "<AxesSubplot:ylabel='city'>"
      ]
     },
     "execution_count": 28,
     "metadata": {},
     "output_type": "execute_result"
    },
    {
     "data": {
      "image/png": "[encoded data removed]",
      "text/plain": [
       "<Figure size 432x432 with 1 Axes>"
      ]
     },
     "metadata": {},
     "output_type": "display_data"
    }
   ],
   "source": [
    "#which city hosted most number of matches in 2013 \n",
    "plt.figure(figsize=(6,6))\n",
    "df1[df1[\"season\"]==2013][\"city\"].value_counts().plot(kind=\"pie\",autopct='%0.1f%%')"
   ]
  },
  {
   "cell_type": "code",
   "execution_count": 29,
   "id": "77ad817d",
   "metadata": {},
   "outputs": [
    {
     "name": "stdout",
     "output_type": "stream",
     "text": [
      "<class 'pandas.core.frame.DataFrame'>\n",
      "RangeIndex: 179078 entries, 0 to 179077\n",
      "Data columns (total 21 columns):\n",
      " #   Column            Non-Null Count   Dtype \n",
      "---  ------            --------------   ----- \n",
      " 0   match_id          179078 non-null  int64 \n",
      " 1   inning            179078 non-null  int64 \n",
      " 2   batting_team      179078 non-null  object\n",
      " 3   bowling_team      179078 non-null  object\n",
      " 4   over              179078 non-null  int64 \n",
      " 5   ball              179078 non-null  int64 \n",
      " 6   batsman           179078 non-null  object\n",
      " 7   non_striker       179078 non-null  object\n",
      " 8   bowler            179078 non-null  object\n",
      " 9   is_super_over     179078 non-null  int64 \n",
      " 10  wide_runs         179078 non-null  int64 \n",
      " 11  bye_runs          179078 non-null  int64 \n",
      " 12  legbye_runs       179078 non-null  int64 \n",
      " 13  noball_runs       179078 non-null  int64 \n",
      " 14  penalty_runs      179078 non-null  int64 \n",
      " 15  batsman_runs      179078 non-null  int64 \n",
      " 16  extra_runs        179078 non-null  int64 \n",
      " 17  total_runs        179078 non-null  int64 \n",
      " 18  player_dismissed  8834 non-null    object\n",
      " 19  dismissal_kind    8834 non-null    object\n",
      " 20  fielder           6448 non-null    object\n",
      "dtypes: int64(13), object(8)\n",
      "memory usage: 28.7+ MB\n"
     ]
    }
   ],
   "source": [
    "df2.info()"
   ]
  },
  {
   "cell_type": "code",
   "execution_count": 30,
   "id": "c200481c",
   "metadata": {},
   "outputs": [
    {
     "data": {
      "text/plain": [
       "player_dismissed\n",
       "SK Raina            162\n",
       "RG Sharma           155\n",
       "RV Uthappa          153\n",
       "V Kohli             143\n",
       "S Dhawan            137\n",
       "                   ... \n",
       "C Madan               1\n",
       "SMSM Senanayake       1\n",
       "P Chopra              1\n",
       "P Krishna             1\n",
       "M Santner             1\n",
       "Length: 487, dtype: int64"
      ]
     },
     "execution_count": 30,
     "metadata": {},
     "output_type": "execute_result"
    }
   ],
   "source": [
    "df2[[\"player_dismissed\"]].value_counts()"
   ]
  },
  {
   "cell_type": "code",
   "execution_count": 31,
   "id": "e25db035",
   "metadata": {},
   "outputs": [
    {
     "data": {
      "text/plain": [
       "fielder         \n",
       "MS Dhoni            159\n",
       "KD Karthik          152\n",
       "RV Uthappa          125\n",
       "SK Raina            115\n",
       "AB de Villiers      114\n",
       "                   ... \n",
       "Mashrafe Mortaza      1\n",
       "Misbah-ul-Haq         1\n",
       "Ankit Soni            1\n",
       "N Pooran              1\n",
       "R Powell (sub)        1\n",
       "Length: 499, dtype: int64"
      ]
     },
     "execution_count": 31,
     "metadata": {},
     "output_type": "execute_result"
    }
   ],
   "source": [
    "df2[[\"fielder\"]].value_counts()"
   ]
  },
  {
   "cell_type": "code",
   "execution_count": 32,
   "id": "928ec7e9",
   "metadata": {},
   "outputs": [
    {
     "data": {
      "text/plain": [
       "<AxesSubplot:xlabel='dismissal_kind'>"
      ]
     },
     "execution_count": 32,
     "metadata": {},
     "output_type": "execute_result"
    },
    {
     "data": {
      "image/png": "[encoded data removed]",
      "text/plain": [
       "<Figure size 432x288 with 1 Axes>"
      ]
     },
     "metadata": {
      "needs_background": "light"
     },
     "output_type": "display_data"
    }
   ],
   "source": [
    "df2[[\"dismissal_kind\"]].value_counts().plot(kind=\"bar\")"
   ]
  },
  {
   "cell_type": "code",
   "execution_count": 33,
   "id": "cef716b6",
   "metadata": {},
   "outputs": [
    {
     "data": {
      "text/plain": [
       "batting_team         bowling_team               \n",
       "Chennai Super Kings  Deccan Chargers                1592\n",
       "                     Delhi Capitals                  505\n",
       "                     Delhi Daredevils               2937\n",
       "                     Kings XI Punjab                3591\n",
       "                     Kochi Tuskers Kerala            283\n",
       "                                                    ... \n",
       "Sunrisers Hyderabad  Pune Warriors                   245\n",
       "                     Rajasthan Royals               1674\n",
       "                     Rising Pune Supergiant          312\n",
       "                     Rising Pune Supergiants         255\n",
       "                     Royal Challengers Bangalore    2501\n",
       "Name: total_runs, Length: 160, dtype: int64"
      ]
     },
     "execution_count": 33,
     "metadata": {},
     "output_type": "execute_result"
    }
   ],
   "source": [
    "#Find Team wise runs scored.\n",
    "df2.groupby(['batting_team','bowling_team'])['total_runs'].sum()"
   ]
  },
  {
   "cell_type": "code",
   "execution_count": 34,
   "id": "0a565963",
   "metadata": {},
   "outputs": [
    {
     "data": {
      "text/plain": [
       "11830"
      ]
     },
     "execution_count": 34,
     "metadata": {},
     "output_type": "execute_result"
    }
   ],
   "source": [
    "# Find Total Runs of Virat Kohli.\n",
    "df2[(df2['batsman']=='V Kohli')|(df2['non_striker']=='V Kohli')|(df2['bowler']=='V Kohli')|(df2['fielder']=='V Kohli')][\"total_runs\"].sum()"
   ]
  },
  {
   "cell_type": "code",
   "execution_count": 35,
   "id": "80e298fd",
   "metadata": {},
   "outputs": [
    {
     "data": {
      "text/plain": [
       "12391"
      ]
     },
     "execution_count": 35,
     "metadata": {},
     "output_type": "execute_result"
    }
   ],
   "source": [
    "# Find Total Runs of Your Fav Player.\n",
    "df2[(df2['batsman']=='SK Raina')|(df2['non_striker']=='SK Raina')|(df2['bowler']=='SK Raina')|(df2['fielder']=='SK Raina')][\"total_runs\"].sum()"
   ]
  },
  {
   "cell_type": "code",
   "execution_count": 36,
   "id": "2adacc20",
   "metadata": {},
   "outputs": [
    {
     "data": {
      "text/plain": [
       "bowler\n",
       "A Ashish Reddy     14\n",
       "A Chandila          3\n",
       "A Choudhary         7\n",
       "A Dananjaya         1\n",
       "A Flintoff          1\n",
       "                 ... \n",
       "YA Abdulla         17\n",
       "YK Pathan          71\n",
       "YS Chahal         116\n",
       "Yuvraj Singh       27\n",
       "Z Khan            169\n",
       "Name: extra_runs, Length: 405, dtype: int64"
      ]
     },
     "execution_count": 36,
     "metadata": {},
     "output_type": "execute_result"
    }
   ],
   "source": [
    "# Extra Runs Given By All Bowlers in a League.\n",
    "\n",
    "df2.groupby([\"bowler\"])[\"extra_runs\"].sum()"
   ]
  },
  {
   "cell_type": "code",
   "execution_count": 37,
   "id": "459cf47c",
   "metadata": {},
   "outputs": [
    {
     "data": {
      "text/plain": [
       "14"
      ]
     },
     "execution_count": 37,
     "metadata": {},
     "output_type": "execute_result"
    }
   ],
   "source": [
    "# Extra Runs Given By TS Mills.\n",
    "df2[(df2[\"bowler\"]=='TS Mills')|(df2[\"batsman\"]=='TS Mills')|(df2[\"non_striker\"]=='TS Mills')|(df2[\"fielder\"]=='TS Mills')][\"extra_runs\"].sum()"
   ]
  },
  {
   "cell_type": "code",
   "execution_count": 38,
   "id": "6eac913b",
   "metadata": {},
   "outputs": [
    {
     "data": {
      "text/plain": [
       "35"
      ]
     },
     "execution_count": 38,
     "metadata": {},
     "output_type": "execute_result"
    }
   ],
   "source": [
    "# Catches Taken By Mandeep Singh.\n",
    "df2[(df2[\"fielder\"]=='Mandeep Singh')&(df2[\"dismissal_kind\"]=='caught')][\"fielder\"].count()"
   ]
  },
  {
   "cell_type": "code",
   "execution_count": 39,
   "id": "802b02b9",
   "metadata": {},
   "outputs": [
    {
     "data": {
      "text/plain": [
       "15"
      ]
     },
     "execution_count": 39,
     "metadata": {},
     "output_type": "execute_result"
    }
   ],
   "source": [
    "# How Many Times DA Warner is dismissed by Mohammed Shami.\n",
    "\n",
    "df2[(df2['batsman']=='Mohammed Shami')|(df2['non_striker']=='Mohammed Shami')|(df2['bowler']=='Mohammed Shami')&(df2['player_dismissed']=='DA Warner')]['player_dismissed'].count()"
   ]
  },
  {
   "cell_type": "code",
   "execution_count": 40,
   "id": "ddf024a2",
   "metadata": {},
   "outputs": [
    {
     "data": {
      "text/plain": [
       "102"
      ]
     },
     "execution_count": 40,
     "metadata": {},
     "output_type": "execute_result"
    }
   ],
   "source": [
    "# Total Number of Wickets Taken by YS Chahal.\n",
    "df2[(df2[\"bowler\"]=='YS Chahal')]['player_dismissed'].count()"
   ]
  },
  {
   "cell_type": "code",
   "execution_count": 41,
   "id": "732e14d1",
   "metadata": {},
   "outputs": [
    {
     "data": {
      "text/plain": [
       "38"
      ]
     },
     "execution_count": 41,
     "metadata": {},
     "output_type": "execute_result"
    }
   ],
   "source": [
    "# Find Number of Stump Out done by MS Dhoni.\n",
    "\n",
    "df2[(df2[\"fielder\"]=='MS Dhoni')&(df2[\"dismissal_kind\"]=='stumped')][\"dismissal_kind\"].count()"
   ]
  },
  {
   "cell_type": "code",
   "execution_count": 42,
   "id": "11a1892f",
   "metadata": {},
   "outputs": [
    {
     "data": {
      "text/plain": [
       "8"
      ]
     },
     "execution_count": 42,
     "metadata": {},
     "output_type": "execute_result"
    }
   ],
   "source": [
    "# How Many Times S Dhawan Got Out by lbw.\n",
    "\n",
    "df2[(df2[\"player_dismissed\"]=='S Dhawan')&(df2[\"dismissal_kind\"]=='lbw')][\"player_dismissed\"].count()"
   ]
  },
  {
   "cell_type": "code",
   "execution_count": 43,
   "id": "46bb96f1",
   "metadata": {},
   "outputs": [
    {
     "data": {
      "text/plain": [
       "207"
      ]
     },
     "execution_count": 43,
     "metadata": {},
     "output_type": "execute_result"
    }
   ],
   "source": [
    "# Total number sixes hit by MS Dhoni.\n",
    "\n",
    "df2[(df2[\"batsman\"]=='MS Dhoni')&(df2[\"batsman_runs\"]==6)][\"batsman_runs\"].count()"
   ]
  },
  {
   "cell_type": "code",
   "execution_count": 44,
   "id": "648cc20c",
   "metadata": {},
   "outputs": [
    {
     "data": {
      "text/plain": [
       "82113"
      ]
     },
     "execution_count": 44,
     "metadata": {},
     "output_type": "execute_result"
    }
   ],
   "source": [
    "# Total numbers of balls faced by MI Players.\n",
    "\n",
    "df2[(df2[\"batting_team\"]=='Mumbai Indians')][\"ball\"].sum()"
   ]
  },
  {
   "cell_type": "code",
   "execution_count": 45,
   "id": "4e9a5ac9",
   "metadata": {},
   "outputs": [
    {
     "data": {
      "text/plain": [
       "75539"
      ]
     },
     "execution_count": 45,
     "metadata": {},
     "output_type": "execute_result"
    }
   ],
   "source": [
    "# Total numbers of balls faced by KKR Players.\n",
    "\n",
    "df2[(df2[\"batting_team\"]=='Kolkata Knight Riders')][\"ball\"].sum()"
   ]
  },
  {
   "cell_type": "code",
   "execution_count": 46,
   "id": "da329b78",
   "metadata": {},
   "outputs": [
    {
     "data": {
      "text/plain": [
       "5427"
      ]
     },
     "execution_count": 46,
     "metadata": {},
     "output_type": "execute_result"
    }
   ],
   "source": [
    "# Find the total number of runs scored by Sachin Tendulkar.\n",
    "\n",
    "df2[(df2['batsman']=='SR Tendulkar')|(df2['non_striker']=='SR Tendulkar')|(df2['bowler']=='SR Tendulkar')|(df2['fielder']=='SR Tendulkar')][\"total_runs\"].sum()"
   ]
  },
  {
   "cell_type": "code",
   "execution_count": 47,
   "id": "74933f4e",
   "metadata": {},
   "outputs": [
    {
     "data": {
      "text/plain": [
       "7375"
      ]
     },
     "execution_count": 47,
     "metadata": {},
     "output_type": "execute_result"
    }
   ],
   "source": [
    "# Find the total number of balls faced by Schin Tendulkar.\n",
    "\n",
    "df2[(df2[\"batsman\"]=='SR Tendulkar')][\"ball\"].sum()"
   ]
  },
  {
   "cell_type": "code",
   "execution_count": 48,
   "id": "090f9b86",
   "metadata": {},
   "outputs": [
    {
     "data": {
      "text/plain": [
       "<AxesSubplot:ylabel='dismissal_kind'>"
      ]
     },
     "execution_count": 48,
     "metadata": {},
     "output_type": "execute_result"
    },
    {
     "data": {
      "image/png": "[encoded data removed]",
      "text/plain": [
       "<Figure size 432x288 with 1 Axes>"
      ]
     },
     "metadata": {},
     "output_type": "display_data"
    }
   ],
   "source": [
    "# Find Sachin Tendulkar's dismissal types in IPL.\n",
    "\n",
    "df2[(df2[\"player_dismissed\"]=='SR Tendulkar')][\"dismissal_kind\"].value_counts().plot(kind=\"pie\",autopct='%0.1f%%')"
   ]
  },
  {
   "cell_type": "code",
   "execution_count": 49,
   "id": "c2b9df2c",
   "metadata": {},
   "outputs": [
    {
     "data": {
      "text/plain": [
       "PP Chawla          3\n",
       "R Bhatia           3\n",
       "RP Singh           3\n",
       "DE Bollinger       2\n",
       "PJ Sangwan         2\n",
       "SB Jakati          2\n",
       "A Nehra            2\n",
       "JH Kallis          2\n",
       "R Sharma           2\n",
       "A Mishra           2\n",
       "SP Narine          2\n",
       "R Vinay Kumar      2\n",
       "P Kumar            2\n",
       "IK Pathan          2\n",
       "M Kartik           1\n",
       "DP Nannes          1\n",
       "J Syed Mohammad    1\n",
       "Azhar Mahmood      1\n",
       "M Morkel           1\n",
       "V Pratap Singh     1\n",
       "BAW Mendis         1\n",
       "RA Jadeja          1\n",
       "R Ashwin           1\n",
       "I Sharma           1\n",
       "UT Yadav           1\n",
       "HV Patel           1\n",
       "A Chandila         1\n",
       "Shakib Al Hasan    1\n",
       "AJ Finch           1\n",
       "A Singh            1\n",
       "Z Khan             1\n",
       "Joginder Sharma    1\n",
       "Anand Rajan        1\n",
       "Yuvraj Singh       1\n",
       "Shahid Afridi      1\n",
       "VY Mahesh          1\n",
       "SK Trivedi         1\n",
       "PP Ojha            1\n",
       "LR Shukla          1\n",
       "VS Malik           1\n",
       "AB Agarkar         1\n",
       "D du Preez         1\n",
       "SK Warne           1\n",
       "SK Raina           1\n",
       "AD Mascarenhas     1\n",
       "L Balaji           1\n",
       "T Thushara         1\n",
       "DW Steyn           1\n",
       "Shoaib Akhtar      1\n",
       "AL Menaria         1\n",
       "RJ Harris          1\n",
       "KV Sharma          1\n",
       "Name: bowler, dtype: int64"
      ]
     },
     "execution_count": 49,
     "metadata": {},
     "output_type": "execute_result"
    }
   ],
   "source": [
    "# Find the bowlers who dismissed SR Tendulkar.\n",
    "\n",
    "df2[(df2[\"player_dismissed\"]=='SR Tendulkar')][\"bowler\"].value_counts()"
   ]
  },
  {
   "cell_type": "code",
   "execution_count": 50,
   "id": "f8781da2",
   "metadata": {},
   "outputs": [
    {
     "data": {
      "text/plain": [
       "162"
      ]
     },
     "execution_count": 50,
     "metadata": {},
     "output_type": "execute_result"
    }
   ],
   "source": [
    "# How many times was Suresh Raina dismissed\n",
    "\n",
    "df2[(df2[\"player_dismissed\"]=='SK Raina')][\"player_dismissed\"].count()"
   ]
  },
  {
   "cell_type": "code",
   "execution_count": 51,
   "id": "106f65ac",
   "metadata": {},
   "outputs": [
    {
     "data": {
      "text/plain": [
       "'Z Khan'"
      ]
     },
     "execution_count": 51,
     "metadata": {},
     "output_type": "execute_result"
    }
   ],
   "source": [
    "# Display player details who hit the maximum no of sixes in the current IPL tournament.\n",
    "df2[(df2[\"batsman_runs\"]==6)][\"batsman\"].max()"
   ]
  },
  {
   "cell_type": "code",
   "execution_count": 52,
   "id": "6a40f38e",
   "metadata": {},
   "outputs": [
    {
     "data": {
      "text/plain": [
       "<AxesSubplot:ylabel='noball_runs'>"
      ]
     },
     "execution_count": 52,
     "metadata": {},
     "output_type": "execute_result"
    },
    {
     "data": {
      "image/png": "[encoded data removed]",
      "text/plain": [
       "<Figure size 432x432 with 1 Axes>"
      ]
     },
     "metadata": {},
     "output_type": "display_data"
    }
   ],
   "source": [
    "# What is the Overall No Balls Runs for each team in the dataset?\n",
    "plt.figure(figsize=(6,6))\n",
    "df2.groupby(['batting_team'])['noball_runs'].count().plot(kind=\"pie\",autopct='%0.1f%%')"
   ]
  },
  {
   "cell_type": "code",
   "execution_count": 53,
   "id": "9f4ec9ab",
   "metadata": {},
   "outputs": [
    {
     "data": {
      "text/plain": [
       "batsman         non_striker      bowler      \n",
       "A Ashish Reddy  A Mishra         AB Dinda        1\n",
       "                                 AD Mathews      6\n",
       "                                 MR Marsh        1\n",
       "                AA Jhunjhunwala  P Kumar         1\n",
       "                                 PP Chawla       1\n",
       "                                                ..\n",
       "Z Khan          SS Tiwary        DE Bollinger    4\n",
       "                                 DJ Bravo        1\n",
       "                                 DW Steyn        0\n",
       "                                 R Ashwin        1\n",
       "                                 SB Jakati       4\n",
       "Name: total_runs, Length: 42424, dtype: int64"
      ]
     },
     "execution_count": 53,
     "metadata": {},
     "output_type": "execute_result"
    }
   ],
   "source": [
    "# Which player scored the most runs in the dataset?\n",
    "\n",
    "df2.groupby(['batsman','non_striker','bowler'])['total_runs'].max()"
   ]
  },
  {
   "cell_type": "code",
   "execution_count": 59,
   "id": "c1ad8da4",
   "metadata": {},
   "outputs": [
    {
     "data": {
      "text/plain": [
       "batting_team         bowling_team               \n",
       "Chennai Super Kings  Deccan Chargers                 60\n",
       "                     Delhi Capitals                  11\n",
       "                     Delhi Daredevils               103\n",
       "                     Kings XI Punjab                 99\n",
       "                     Kochi Tuskers Kerala             9\n",
       "                                                   ... \n",
       "Sunrisers Hyderabad  Pune Warriors                   14\n",
       "                     Rajasthan Royals                70\n",
       "                     Rising Pune Supergiant          12\n",
       "                     Rising Pune Supergiants         16\n",
       "                     Royal Challengers Bangalore     71\n",
       "Name: player_dismissed, Length: 160, dtype: int64"
      ]
     },
     "execution_count": 59,
     "metadata": {},
     "output_type": "execute_result"
    }
   ],
   "source": [
    "#team wise how many players are dismissed\n",
    "\n",
    "df2.groupby(['batting_team','bowling_team'])['player_dismissed'].count()"
   ]
  },
  {
   "cell_type": "code",
   "execution_count": 56,
   "id": "45d3a3cc",
   "metadata": {},
   "outputs": [
    {
     "data": {
      "text/plain": [
       "215534.0"
      ]
     },
     "execution_count": 56,
     "metadata": {},
     "output_type": "execute_result"
    }
   ],
   "source": [
    "#how many overs Royal Challengers Bangalore had taken\n",
    "\n",
    "df[(df[\"bowling_team\"]=='Royal Challengers Bangalore')]['over'].sum()"
   ]
  },
  {
   "cell_type": "code",
   "execution_count": 57,
   "id": "729321d7",
   "metadata": {},
   "outputs": [
    {
     "data": {
      "text/plain": [
       "1189.0"
      ]
     },
     "execution_count": 57,
     "metadata": {},
     "output_type": "execute_result"
    }
   ],
   "source": [
    "#overs taken by TS Mills \n",
    "\n",
    "df2[(df2[\"bowler\"]=='TS Mills')]['over'].sum()"
   ]
  },
  {
   "cell_type": "code",
   "execution_count": 60,
   "id": "66a1d54e",
   "metadata": {},
   "outputs": [
    {
     "data": {
      "text/plain": [
       "'Delhi DaredevilsDelhi Daredevils'"
      ]
     },
     "execution_count": 60,
     "metadata": {},
     "output_type": "execute_result"
    }
   ],
   "source": [
    "#list of team whose taken penalty runs \n",
    "\n",
    "df2[(df2[\"penalty_runs\"]!=0)]['batting_team'].sum()"
   ]
  },
  {
   "cell_type": "code",
   "execution_count": 61,
   "id": "ae5dab0e",
   "metadata": {},
   "outputs": [
    {
     "data": {
      "text/plain": [
       "18786"
      ]
     },
     "execution_count": 61,
     "metadata": {},
     "output_type": "execute_result"
    }
   ],
   "source": [
    "#total penalty runs of Delhi Daredevils\n",
    "\n",
    "df2[(df2[\"batting_team\"]=='Delhi Daredevils')]['penalty_runs'].count()"
   ]
  },
  {
   "cell_type": "code",
   "execution_count": 62,
   "id": "67dcc5e7",
   "metadata": {},
   "outputs": [
    {
     "data": {
      "text/plain": [
       "batting_team\n",
       "Chennai Super Kings            19762\n",
       "Deccan Chargers                 9034\n",
       "Delhi Capitals                  1909\n",
       "Delhi Daredevils               18786\n",
       "Gujarat Lions                   3566\n",
       "Kings XI Punjab                20931\n",
       "Kochi Tuskers Kerala            1582\n",
       "Kolkata Knight Riders          20858\n",
       "Mumbai Indians                 22619\n",
       "Pune Warriors                   5443\n",
       "Rajasthan Royals               17292\n",
       "Rising Pune Supergiant          1900\n",
       "Rising Pune Supergiants         1580\n",
       "Royal Challengers Bangalore    20908\n",
       "Sunrisers Hyderabad            12908\n",
       "Name: legbye_runs, dtype: int64"
      ]
     },
     "execution_count": 62,
     "metadata": {},
     "output_type": "execute_result"
    }
   ],
   "source": [
    "#legbye runs of each team in ipl\n",
    "df2.groupby(['batting_team'])['legbye_runs'].count()"
   ]
  },
  {
   "cell_type": "code",
   "execution_count": 63,
   "id": "75d31cc8",
   "metadata": {},
   "outputs": [
    {
     "data": {
      "text/plain": [
       "Harbhajan Singh    2\n",
       "SR Tendulkar       2\n",
       "KH Pandya          1\n",
       "DJ Thornely        1\n",
       "VVS Laxman         1\n",
       "AJ Finch           1\n",
       "KP Pietersen       1\n",
       "S Dhawan           1\n",
       "N Rana             1\n",
       "JJ Bumrah          1\n",
       "Name: player_dismissed, dtype: int64"
      ]
     },
     "execution_count": 63,
     "metadata": {},
     "output_type": "execute_result"
    }
   ],
   "source": [
    "#player dismissed by retired hurt\n",
    "df2[(df2[\"dismissal_kind\"]=='retired hurt')]['player_dismissed'].value_counts()"
   ]
  },
  {
   "cell_type": "code",
   "execution_count": 64,
   "id": "bb5634c4",
   "metadata": {},
   "outputs": [
    {
     "data": {
      "text/plain": [
       "SK Raina     7\n",
       "RG Sharma    6\n",
       "AT Rayudu    5\n",
       "RA Jadeja    5\n",
       "R Dravid     5\n",
       "Name: player_dismissed, dtype: int64"
      ]
     },
     "execution_count": 64,
     "metadata": {},
     "output_type": "execute_result"
    }
   ],
   "source": [
    "#player dismissed by caught and bowled top five\n",
    "df2[(df2[\"dismissal_kind\"]=='caught and bowled')]['player_dismissed'].value_counts().head()"
   ]
  },
  {
   "cell_type": "code",
   "execution_count": 65,
   "id": "1d4c1196",
   "metadata": {},
   "outputs": [
    {
     "data": {
      "text/plain": [
       "G Gambhir    16\n",
       "Name: player_dismissed, dtype: int64"
      ]
     },
     "execution_count": 65,
     "metadata": {},
     "output_type": "execute_result"
    }
   ],
   "source": [
    "#max runout dismissed player deatails \n",
    "df2[(df2[\"dismissal_kind\"]=='run out')]['player_dismissed'].value_counts().head(1)"
   ]
  },
  {
   "cell_type": "code",
   "execution_count": 66,
   "id": "ffb24b33",
   "metadata": {},
   "outputs": [
    {
     "data": {
      "text/plain": [
       "88876"
      ]
     },
     "execution_count": 66,
     "metadata": {},
     "output_type": "execute_result"
    }
   ],
   "source": [
    "#how many times Kolkata Knight Riders vs Delhi Daredevils played matches in ipl\n",
    "y=df2[((df2[\"batting_team\"]=='Kolkata Knight Riders')&(df2[\"bowling_team\"]=='Delhi Daredevils'))|((df2[\"batting_team\"]=='Delhi Daredevils')&(df2[\"bowling_team\"]=='Kolkata Knight Riders'))].count()\n",
    "y.sum()"
   ]
  },
  {
   "cell_type": "code",
   "execution_count": 67,
   "id": "2524185f",
   "metadata": {},
   "outputs": [
    {
     "data": {
      "text/plain": [
       "354840"
      ]
     },
     "execution_count": 67,
     "metadata": {},
     "output_type": "execute_result"
    }
   ],
   "source": [
    "#how many times Chennai Super Kings played as a bowling_team\n",
    "y=df2[(df2[\"bowling_team\"]=='Chennai Super Kings')].count()\n",
    "y.sum()"
   ]
  },
  {
   "cell_type": "code",
   "execution_count": 68,
   "id": "5769960e",
   "metadata": {},
   "outputs": [
    {
     "data": {
      "text/plain": [
       "379150"
      ]
     },
     "execution_count": 68,
     "metadata": {},
     "output_type": "execute_result"
    }
   ],
   "source": [
    "#how many times Royal Challengers Bangalore played as a batting_team\n",
    "y=df2[(df2[\"batting_team\"]=='Royal Challengers Bangalore')].count()\n",
    "y.sum()"
   ]
  },
  {
   "cell_type": "code",
   "execution_count": 69,
   "id": "a894e552",
   "metadata": {},
   "outputs": [
    {
     "data": {
      "text/plain": [
       "9696"
      ]
     },
     "execution_count": 69,
     "metadata": {},
     "output_type": "execute_result"
    }
   ],
   "source": [
    "#total runs of SR Watson\n",
    "df2[(df2['batsman']=='SR Watson')|(df2['non_striker']=='SR Watson')|(df2['bowler']=='SR Watson')|(df2['fielder']=='SR Watson')][\"total_runs\"].sum()"
   ]
  },
  {
   "cell_type": "code",
   "execution_count": 70,
   "id": "e48e3e2d",
   "metadata": {},
   "outputs": [
    {
     "data": {
      "text/plain": [
       "32"
      ]
     },
     "execution_count": 70,
     "metadata": {},
     "output_type": "execute_result"
    }
   ],
   "source": [
    "#bats man runs of Basil Thampi\n",
    "df2[(df2[\"batsman\"]=='Basil Thampi')]['batsman_runs'].sum()"
   ]
  },
  {
   "cell_type": "code",
   "execution_count": 71,
   "id": "6e1a73cf",
   "metadata": {},
   "outputs": [
    {
     "data": {
      "text/plain": [
       "111"
      ]
     },
     "execution_count": 71,
     "metadata": {},
     "output_type": "execute_result"
    }
   ],
   "source": [
    "#how many times Yuvraj Singh dismissed\n",
    "df2[(df2[\"player_dismissed\"]=='Yuvraj Singh')]['player_dismissed'].count()"
   ]
  },
  {
   "cell_type": "code",
   "execution_count": 72,
   "id": "aff35b72",
   "metadata": {},
   "outputs": [
    {
     "data": {
      "text/plain": [
       "20804"
      ]
     },
     "execution_count": 72,
     "metadata": {},
     "output_type": "execute_result"
    }
   ],
   "source": [
    "#overs taken by JP Duminy\n",
    "df2[(df2[\"batsman\"]=='JP Duminy')]['over'].sum()"
   ]
  },
  {
   "cell_type": "code",
   "execution_count": 73,
   "id": "3646e64b",
   "metadata": {},
   "outputs": [
    {
     "data": {
      "text/plain": [
       "313"
      ]
     },
     "execution_count": 73,
     "metadata": {},
     "output_type": "execute_result"
    }
   ],
   "source": [
    "#how many times KC Sangakkara dismissed by RV Uthappa\n",
    "df2[(df2['batsman']=='RV Uthappa')|(df2['non_striker']=='RV Uthappa')|(df2['bowler']=='RV Uthappa')&(df2['player_dismissed']=='KC Sangakkara')]['player_dismissed'].count()"
   ]
  },
  {
   "cell_type": "code",
   "execution_count": 74,
   "id": "35b947a4",
   "metadata": {},
   "outputs": [
    {
     "data": {
      "text/plain": [
       "105"
      ]
     },
     "execution_count": 74,
     "metadata": {},
     "output_type": "execute_result"
    }
   ],
   "source": [
    "#extra runs taken by DT Christian\n",
    "df2[(df2[\"bowler\"]=='DT Christian')|(df2[\"batsman\"]=='DT Christian')|(df2[\"non_striker\"]=='DT Christian')|(df2[\"fielder\"]=='DT Christian')][\"extra_runs\"].sum()"
   ]
  },
  {
   "cell_type": "code",
   "execution_count": 75,
   "id": "a6fe8722",
   "metadata": {},
   "outputs": [
    {
     "data": {
      "text/plain": [
       "24"
      ]
     },
     "execution_count": 75,
     "metadata": {},
     "output_type": "execute_result"
    }
   ],
   "source": [
    "#Pune Warriors no boll runs\n",
    "df2[(df2[\"batting_team\"]=='Pune Warriors')][\"noball_runs\"].sum()"
   ]
  },
  {
   "cell_type": "code",
   "execution_count": 78,
   "id": "8ee4b0c7",
   "metadata": {},
   "outputs": [],
   "source": [
    "#cocatinating two dataframe\n",
    "df=pd.concat([df1,df2])"
   ]
  }
 ],
 "metadata": {
  "kernelspec": {
   "display_name": "Python 3 (ipykernel)",
   "language": "python",
   "name": "python3"
  },
  "language_info": {
   "codemirror_mode": {
    "name": "ipython",
    "version": 3
   },
   "file_extension": ".py",
   "mimetype": "text/x-python",
   "name": "python",
   "nbconvert_exporter": "python",
   "pygments_lexer": "ipython3",
   "version": "3.9.12"
  }
 },
 "nbformat": 4,
 "nbformat_minor": 5
}
